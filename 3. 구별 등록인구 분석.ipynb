{
 "cells": [
  {
   "cell_type": "markdown",
   "id": "3f009190-aa3e-4691-9171-3941395c8ad2",
   "metadata": {},
   "source": [
    "## AIVLE School [AI 미니프로젝트] '서울시 생활정보 기반 대중교통 수요 분석'<br>"
   ]
  },
  {
   "cell_type": "markdown",
   "id": "7a93c9b1-d5b8-4972-881c-eb171a31b686",
   "metadata": {},
   "source": [
    "# 3. 구 별 등록인구 분석\n",
    "### 서울시 내 각 구 별로 등록된 인구를 분석합니다."
   ]
  },
  {
   "cell_type": "code",
   "execution_count": null,
   "id": "4c6ced42",
   "metadata": {},
   "outputs": [],
   "source": [
    "# 필요 라이브러리를 설치합니다.\n",
    "%pip install pandas seaborn"
   ]
  },
  {
   "cell_type": "markdown",
   "id": "622c0d05-e8c3-4545-93b5-d48221dd80e7",
   "metadata": {},
   "source": [
    "## 데이터 안내\n",
    "\n",
    "[데이터 파일명]\n",
    "* 3. seoul_people.csv\n",
    "\n",
    "[데이터 정보]\n",
    "* 서울시 주민등록 데이터\n",
    "\n",
    "[데이터 컬럼 정보]\n",
    "* 한국인, 등록 외국인, 합계, 세대수, 고령인구수"
   ]
  },
  {
   "cell_type": "markdown",
   "id": "6f86f68e-e389-48cc-af52-6bc1aa75c31d",
   "metadata": {},
   "source": [
    "# 3.1.데이터 불러오기"
   ]
  },
  {
   "cell_type": "markdown",
   "id": "9042c2c6-f02f-4c6e-9f91-c3d08324ecc7",
   "metadata": {},
   "source": [
    "#### [3.1.1] 데이터 로딩\n",
    "* Pandas 라이브러리를 활용해서 '3. seoul_people.csv'파일을 'seoul_people' 변수에 저장하세요.\n",
    "    * 데이터 파일 로딩시 참고 사항 \n",
    "        * 구분자(sep)는 '\\t' 입니다\n",
    "        * 인코더를 사용해 주세요\n",
    "    * 데이터를 불러올 때 오류가 발생한다면, 오류에 대해 직접 검색하여 해결해보세요."
   ]
  },
  {
   "cell_type": "code",
   "execution_count": 2,
   "id": "a950aab9-8448-4096-a4ee-ff7705dc8343",
   "metadata": {},
   "outputs": [],
   "source": [
    "import sys\n",
    "import numpy as np\n",
    "import pandas as pd"
   ]
  },
  {
   "cell_type": "code",
   "execution_count": 8,
   "id": "saving-slope",
   "metadata": {},
   "outputs": [],
   "source": [
    "# 아래에 코드를 작성하고 결과를 확인합니다.\n",
    "path='seoul_people.csv'\n",
    "seoul_people = pd.read_csv(path,sep=\"\\t\",encoding='cp949')"
   ]
  },
  {
   "cell_type": "code",
   "execution_count": 10,
   "id": "funny-subcommittee",
   "metadata": {},
   "outputs": [
    {
     "data": {
      "text/plain": [
       "(28, 14)"
      ]
     },
     "execution_count": 10,
     "metadata": {},
     "output_type": "execute_result"
    }
   ],
   "source": [
    "# 데이터 프레임의 Shape을 확인합니다.\n",
    "seoul_people.shape"
   ]
  },
  {
   "cell_type": "markdown",
   "id": "7b6bfa23-4ff2-47cc-a83d-dc5629e00fec",
   "metadata": {},
   "source": [
    "# 3.2.기본 정보 확인 및 클렌징\n",
    "\n",
    "+ 데이터 클렌징 : 결측치, 이상치 등을 제거하여 데이터 분석 결과가 왜곡 되는 문제를 방지하기 위한 정제 과정"
   ]
  },
  {
   "cell_type": "markdown",
   "id": "fbdef84e-16f2-4de0-8bd7-977358de995a",
   "metadata": {},
   "source": [
    "#### [3.2.1] 기본 정보 확인하기\n",
    "* 'seoul_people' 데이터의 정보를 확인해보세요.\n",
    "* 'describe', 'info', 'head', 'tail' 등 전부 활용해 보세요."
   ]
  },
  {
   "cell_type": "code",
   "execution_count": 11,
   "id": "demographic-battery",
   "metadata": {},
   "outputs": [
    {
     "data": {
      "text/html": [
       "<div>\n",
       "<style scoped>\n",
       "    .dataframe tbody tr th:only-of-type {\n",
       "        vertical-align: middle;\n",
       "    }\n",
       "\n",
       "    .dataframe tbody tr th {\n",
       "        vertical-align: top;\n",
       "    }\n",
       "\n",
       "    .dataframe thead th {\n",
       "        text-align: right;\n",
       "    }\n",
       "</style>\n",
       "<table border=\"1\" class=\"dataframe\">\n",
       "  <thead>\n",
       "    <tr style=\"text-align: right;\">\n",
       "      <th></th>\n",
       "      <th>기간</th>\n",
       "      <th>자치구</th>\n",
       "      <th>세대</th>\n",
       "      <th>인구</th>\n",
       "      <th>인구.1</th>\n",
       "      <th>인구.2</th>\n",
       "      <th>인구.3</th>\n",
       "      <th>인구.4</th>\n",
       "      <th>인구.5</th>\n",
       "      <th>인구.6</th>\n",
       "      <th>인구.7</th>\n",
       "      <th>인구.8</th>\n",
       "      <th>세대당인구</th>\n",
       "      <th>65세이상고령자</th>\n",
       "    </tr>\n",
       "  </thead>\n",
       "  <tbody>\n",
       "    <tr>\n",
       "      <th>count</th>\n",
       "      <td>28</td>\n",
       "      <td>28</td>\n",
       "      <td>28</td>\n",
       "      <td>28</td>\n",
       "      <td>28</td>\n",
       "      <td>28</td>\n",
       "      <td>28</td>\n",
       "      <td>28</td>\n",
       "      <td>28</td>\n",
       "      <td>28</td>\n",
       "      <td>28</td>\n",
       "      <td>28</td>\n",
       "      <td>28</td>\n",
       "      <td>28</td>\n",
       "    </tr>\n",
       "    <tr>\n",
       "      <th>unique</th>\n",
       "      <td>2</td>\n",
       "      <td>27</td>\n",
       "      <td>27</td>\n",
       "      <td>28</td>\n",
       "      <td>28</td>\n",
       "      <td>28</td>\n",
       "      <td>28</td>\n",
       "      <td>28</td>\n",
       "      <td>28</td>\n",
       "      <td>28</td>\n",
       "      <td>28</td>\n",
       "      <td>28</td>\n",
       "      <td>24</td>\n",
       "      <td>27</td>\n",
       "    </tr>\n",
       "    <tr>\n",
       "      <th>top</th>\n",
       "      <td>2022.1/4</td>\n",
       "      <td>자치구</td>\n",
       "      <td>세대</td>\n",
       "      <td>합계</td>\n",
       "      <td>합계</td>\n",
       "      <td>합계</td>\n",
       "      <td>한국인</td>\n",
       "      <td>한국인</td>\n",
       "      <td>한국인</td>\n",
       "      <td>등록외국인</td>\n",
       "      <td>등록외국인</td>\n",
       "      <td>등록외국인</td>\n",
       "      <td>세대당인구</td>\n",
       "      <td>65세이상고령자</td>\n",
       "    </tr>\n",
       "    <tr>\n",
       "      <th>freq</th>\n",
       "      <td>26</td>\n",
       "      <td>2</td>\n",
       "      <td>2</td>\n",
       "      <td>1</td>\n",
       "      <td>1</td>\n",
       "      <td>1</td>\n",
       "      <td>1</td>\n",
       "      <td>1</td>\n",
       "      <td>1</td>\n",
       "      <td>1</td>\n",
       "      <td>1</td>\n",
       "      <td>1</td>\n",
       "      <td>2</td>\n",
       "      <td>2</td>\n",
       "    </tr>\n",
       "  </tbody>\n",
       "</table>\n",
       "</div>"
      ],
      "text/plain": [
       "              기간  자치구  세대  인구 인구.1 인구.2 인구.3 인구.4 인구.5   인구.6   인구.7   인구.8  \\\n",
       "count         28   28  28  28   28   28   28   28   28     28     28     28   \n",
       "unique         2   27  27  28   28   28   28   28   28     28     28     28   \n",
       "top     2022.1/4  자치구  세대  합계   합계   합계  한국인  한국인  한국인  등록외국인  등록외국인  등록외국인   \n",
       "freq          26    2   2   1    1    1    1    1    1      1      1      1   \n",
       "\n",
       "        세대당인구  65세이상고령자  \n",
       "count      28        28  \n",
       "unique     24        27  \n",
       "top     세대당인구  65세이상고령자  \n",
       "freq        2         2  "
      ]
     },
     "execution_count": 11,
     "metadata": {},
     "output_type": "execute_result"
    }
   ],
   "source": [
    "# 아래에 코드를 작성하고 결과를 확인합니다.\n",
    "seoul_people.describe()\n"
   ]
  },
  {
   "cell_type": "code",
   "execution_count": 12,
   "id": "940a114a",
   "metadata": {},
   "outputs": [
    {
     "name": "stdout",
     "output_type": "stream",
     "text": [
      "<class 'pandas.core.frame.DataFrame'>\n",
      "RangeIndex: 28 entries, 0 to 27\n",
      "Data columns (total 14 columns):\n",
      " #   Column    Non-Null Count  Dtype \n",
      "---  ------    --------------  ----- \n",
      " 0   기간        28 non-null     object\n",
      " 1   자치구       28 non-null     object\n",
      " 2   세대        28 non-null     object\n",
      " 3   인구        28 non-null     object\n",
      " 4   인구.1      28 non-null     object\n",
      " 5   인구.2      28 non-null     object\n",
      " 6   인구.3      28 non-null     object\n",
      " 7   인구.4      28 non-null     object\n",
      " 8   인구.5      28 non-null     object\n",
      " 9   인구.6      28 non-null     object\n",
      " 10  인구.7      28 non-null     object\n",
      " 11  인구.8      28 non-null     object\n",
      " 12  세대당인구     28 non-null     object\n",
      " 13  65세이상고령자  28 non-null     object\n",
      "dtypes: object(14)\n",
      "memory usage: 3.2+ KB\n"
     ]
    }
   ],
   "source": [
    "# 아래에 코드를 작성하고 결과를 확인합니다.\n",
    "\n",
    "seoul_people.info()"
   ]
  },
  {
   "cell_type": "code",
   "execution_count": 13,
   "id": "7343fadf",
   "metadata": {},
   "outputs": [
    {
     "data": {
      "text/html": [
       "<div>\n",
       "<style scoped>\n",
       "    .dataframe tbody tr th:only-of-type {\n",
       "        vertical-align: middle;\n",
       "    }\n",
       "\n",
       "    .dataframe tbody tr th {\n",
       "        vertical-align: top;\n",
       "    }\n",
       "\n",
       "    .dataframe thead th {\n",
       "        text-align: right;\n",
       "    }\n",
       "</style>\n",
       "<table border=\"1\" class=\"dataframe\">\n",
       "  <thead>\n",
       "    <tr style=\"text-align: right;\">\n",
       "      <th></th>\n",
       "      <th>기간</th>\n",
       "      <th>자치구</th>\n",
       "      <th>세대</th>\n",
       "      <th>인구</th>\n",
       "      <th>인구.1</th>\n",
       "      <th>인구.2</th>\n",
       "      <th>인구.3</th>\n",
       "      <th>인구.4</th>\n",
       "      <th>인구.5</th>\n",
       "      <th>인구.6</th>\n",
       "      <th>인구.7</th>\n",
       "      <th>인구.8</th>\n",
       "      <th>세대당인구</th>\n",
       "      <th>65세이상고령자</th>\n",
       "    </tr>\n",
       "  </thead>\n",
       "  <tbody>\n",
       "    <tr>\n",
       "      <th>0</th>\n",
       "      <td>기간</td>\n",
       "      <td>자치구</td>\n",
       "      <td>세대</td>\n",
       "      <td>합계</td>\n",
       "      <td>합계</td>\n",
       "      <td>합계</td>\n",
       "      <td>한국인</td>\n",
       "      <td>한국인</td>\n",
       "      <td>한국인</td>\n",
       "      <td>등록외국인</td>\n",
       "      <td>등록외국인</td>\n",
       "      <td>등록외국인</td>\n",
       "      <td>세대당인구</td>\n",
       "      <td>65세이상고령자</td>\n",
       "    </tr>\n",
       "    <tr>\n",
       "      <th>1</th>\n",
       "      <td>기간</td>\n",
       "      <td>자치구</td>\n",
       "      <td>세대</td>\n",
       "      <td>계</td>\n",
       "      <td>남자</td>\n",
       "      <td>여자</td>\n",
       "      <td>계</td>\n",
       "      <td>남자</td>\n",
       "      <td>여자</td>\n",
       "      <td>계</td>\n",
       "      <td>남자</td>\n",
       "      <td>여자</td>\n",
       "      <td>세대당인구</td>\n",
       "      <td>65세이상고령자</td>\n",
       "    </tr>\n",
       "    <tr>\n",
       "      <th>2</th>\n",
       "      <td>2022.1/4</td>\n",
       "      <td>합계</td>\n",
       "      <td>4451444</td>\n",
       "      <td>9732617</td>\n",
       "      <td>4716704</td>\n",
       "      <td>5015913</td>\n",
       "      <td>9506778</td>\n",
       "      <td>4613910</td>\n",
       "      <td>4892868</td>\n",
       "      <td>225839</td>\n",
       "      <td>102794</td>\n",
       "      <td>123045</td>\n",
       "      <td>2.14</td>\n",
       "      <td>1628980</td>\n",
       "    </tr>\n",
       "    <tr>\n",
       "      <th>3</th>\n",
       "      <td>2022.1/4</td>\n",
       "      <td>종로구</td>\n",
       "      <td>73766</td>\n",
       "      <td>153684</td>\n",
       "      <td>74018</td>\n",
       "      <td>79666</td>\n",
       "      <td>144275</td>\n",
       "      <td>69911</td>\n",
       "      <td>74364</td>\n",
       "      <td>9409</td>\n",
       "      <td>4107</td>\n",
       "      <td>5302</td>\n",
       "      <td>1.96</td>\n",
       "      <td>28064</td>\n",
       "    </tr>\n",
       "    <tr>\n",
       "      <th>4</th>\n",
       "      <td>2022.1/4</td>\n",
       "      <td>중구</td>\n",
       "      <td>63767</td>\n",
       "      <td>131450</td>\n",
       "      <td>63869</td>\n",
       "      <td>67581</td>\n",
       "      <td>122173</td>\n",
       "      <td>59448</td>\n",
       "      <td>62725</td>\n",
       "      <td>9277</td>\n",
       "      <td>4421</td>\n",
       "      <td>4856</td>\n",
       "      <td>1.92</td>\n",
       "      <td>24742</td>\n",
       "    </tr>\n",
       "  </tbody>\n",
       "</table>\n",
       "</div>"
      ],
      "text/plain": [
       "         기간  자치구       세대       인구     인구.1     인구.2     인구.3     인구.4  \\\n",
       "0        기간  자치구       세대       합계       합계       합계      한국인      한국인   \n",
       "1        기간  자치구       세대        계       남자       여자        계       남자   \n",
       "2  2022.1/4   합계  4451444  9732617  4716704  5015913  9506778  4613910   \n",
       "3  2022.1/4  종로구    73766   153684    74018    79666   144275    69911   \n",
       "4  2022.1/4   중구    63767   131450    63869    67581   122173    59448   \n",
       "\n",
       "      인구.5    인구.6    인구.7    인구.8  세대당인구  65세이상고령자  \n",
       "0      한국인   등록외국인   등록외국인   등록외국인  세대당인구  65세이상고령자  \n",
       "1       여자       계      남자      여자  세대당인구  65세이상고령자  \n",
       "2  4892868  225839  102794  123045   2.14   1628980  \n",
       "3    74364    9409    4107    5302   1.96     28064  \n",
       "4    62725    9277    4421    4856   1.92     24742  "
      ]
     },
     "execution_count": 13,
     "metadata": {},
     "output_type": "execute_result"
    }
   ],
   "source": [
    "# 아래에 코드를 작성하고 결과를 확인합니다.\n",
    "seoul_people.head(5)"
   ]
  },
  {
   "cell_type": "code",
   "execution_count": 14,
   "id": "7f77b32f",
   "metadata": {
    "tags": []
   },
   "outputs": [
    {
     "data": {
      "text/html": [
       "<div>\n",
       "<style scoped>\n",
       "    .dataframe tbody tr th:only-of-type {\n",
       "        vertical-align: middle;\n",
       "    }\n",
       "\n",
       "    .dataframe tbody tr th {\n",
       "        vertical-align: top;\n",
       "    }\n",
       "\n",
       "    .dataframe thead th {\n",
       "        text-align: right;\n",
       "    }\n",
       "</style>\n",
       "<table border=\"1\" class=\"dataframe\">\n",
       "  <thead>\n",
       "    <tr style=\"text-align: right;\">\n",
       "      <th></th>\n",
       "      <th>기간</th>\n",
       "      <th>자치구</th>\n",
       "      <th>세대</th>\n",
       "      <th>인구</th>\n",
       "      <th>인구.1</th>\n",
       "      <th>인구.2</th>\n",
       "      <th>인구.3</th>\n",
       "      <th>인구.4</th>\n",
       "      <th>인구.5</th>\n",
       "      <th>인구.6</th>\n",
       "      <th>인구.7</th>\n",
       "      <th>인구.8</th>\n",
       "      <th>세대당인구</th>\n",
       "      <th>65세이상고령자</th>\n",
       "    </tr>\n",
       "  </thead>\n",
       "  <tbody>\n",
       "    <tr>\n",
       "      <th>23</th>\n",
       "      <td>2022.1/4</td>\n",
       "      <td>관악구</td>\n",
       "      <td>279353</td>\n",
       "      <td>500336</td>\n",
       "      <td>250450</td>\n",
       "      <td>249886</td>\n",
       "      <td>486375</td>\n",
       "      <td>244409</td>\n",
       "      <td>241966</td>\n",
       "      <td>13961</td>\n",
       "      <td>6041</td>\n",
       "      <td>7920</td>\n",
       "      <td>1.74</td>\n",
       "      <td>80686</td>\n",
       "    </tr>\n",
       "    <tr>\n",
       "      <th>24</th>\n",
       "      <td>2022.1/4</td>\n",
       "      <td>서초구</td>\n",
       "      <td>169895</td>\n",
       "      <td>413677</td>\n",
       "      <td>197665</td>\n",
       "      <td>216012</td>\n",
       "      <td>409823</td>\n",
       "      <td>195806</td>\n",
       "      <td>214017</td>\n",
       "      <td>3854</td>\n",
       "      <td>1859</td>\n",
       "      <td>1995</td>\n",
       "      <td>2.41</td>\n",
       "      <td>61404</td>\n",
       "    </tr>\n",
       "    <tr>\n",
       "      <th>25</th>\n",
       "      <td>2022.1/4</td>\n",
       "      <td>강남구</td>\n",
       "      <td>234612</td>\n",
       "      <td>537338</td>\n",
       "      <td>257096</td>\n",
       "      <td>280242</td>\n",
       "      <td>532577</td>\n",
       "      <td>254866</td>\n",
       "      <td>277711</td>\n",
       "      <td>4761</td>\n",
       "      <td>2230</td>\n",
       "      <td>2531</td>\n",
       "      <td>2.27</td>\n",
       "      <td>79575</td>\n",
       "    </tr>\n",
       "    <tr>\n",
       "      <th>26</th>\n",
       "      <td>2022.1/4</td>\n",
       "      <td>송파구</td>\n",
       "      <td>285106</td>\n",
       "      <td>668261</td>\n",
       "      <td>321963</td>\n",
       "      <td>346298</td>\n",
       "      <td>662607</td>\n",
       "      <td>319407</td>\n",
       "      <td>343200</td>\n",
       "      <td>5654</td>\n",
       "      <td>2556</td>\n",
       "      <td>3098</td>\n",
       "      <td>2.32</td>\n",
       "      <td>99854</td>\n",
       "    </tr>\n",
       "    <tr>\n",
       "      <th>27</th>\n",
       "      <td>2022.1/4</td>\n",
       "      <td>강동구</td>\n",
       "      <td>201926</td>\n",
       "      <td>465097</td>\n",
       "      <td>227891</td>\n",
       "      <td>237206</td>\n",
       "      <td>461300</td>\n",
       "      <td>226203</td>\n",
       "      <td>235097</td>\n",
       "      <td>3797</td>\n",
       "      <td>1688</td>\n",
       "      <td>2109</td>\n",
       "      <td>2.28</td>\n",
       "      <td>75477</td>\n",
       "    </tr>\n",
       "  </tbody>\n",
       "</table>\n",
       "</div>"
      ],
      "text/plain": [
       "          기간  자치구      세대      인구    인구.1    인구.2    인구.3    인구.4    인구.5  \\\n",
       "23  2022.1/4  관악구  279353  500336  250450  249886  486375  244409  241966   \n",
       "24  2022.1/4  서초구  169895  413677  197665  216012  409823  195806  214017   \n",
       "25  2022.1/4  강남구  234612  537338  257096  280242  532577  254866  277711   \n",
       "26  2022.1/4  송파구  285106  668261  321963  346298  662607  319407  343200   \n",
       "27  2022.1/4  강동구  201926  465097  227891  237206  461300  226203  235097   \n",
       "\n",
       "     인구.6  인구.7  인구.8 세대당인구 65세이상고령자  \n",
       "23  13961  6041  7920  1.74    80686  \n",
       "24   3854  1859  1995  2.41    61404  \n",
       "25   4761  2230  2531  2.27    79575  \n",
       "26   5654  2556  3098  2.32    99854  \n",
       "27   3797  1688  2109  2.28    75477  "
      ]
     },
     "execution_count": 14,
     "metadata": {},
     "output_type": "execute_result"
    }
   ],
   "source": [
    "# 아래에 코드를 작성하고 결과를 확인합니다.\n",
    "seoul_people.tail(5)"
   ]
  },
  {
   "cell_type": "markdown",
   "id": "003322b3",
   "metadata": {},
   "source": [
    "#### [3.2.2] 원하는 데이터 형태로 저장하기\n",
    "\n",
    "* head, tail 등을 살펴본 결과를 토대로 header 값을 적절히 지정하여 데이터를 다시 불러오고 필요한 컬럼만 저장하세요"
   ]
  },
  {
   "cell_type": "code",
   "execution_count": null,
   "id": "4ac83ed7",
   "metadata": {},
   "outputs": [],
   "source": [
    "#read_csv 재실행. 단, header값을 적절히 지정\n"
   ]
  },
  {
   "cell_type": "code",
   "execution_count": null,
   "id": "28c91276",
   "metadata": {},
   "outputs": [],
   "source": [
    "# 다시 불러온 데이터프레임에서 여러분 각자가 사용하고자 하는 컬럼만 가져오세요.\n"
   ]
  },
  {
   "cell_type": "code",
   "execution_count": null,
   "id": "be9c1d4a",
   "metadata": {},
   "outputs": [],
   "source": [
    "# 해당 데이터프레임을 csv 파일로 저장하세요.\n",
    "\n"
   ]
  },
  {
   "cell_type": "markdown",
   "id": "southeast-integration",
   "metadata": {},
   "source": [
    "# 3.3.데이터 분석하기\n",
    "+ 데이터의 형태를 살펴보고 다양한 분석기법을 통해 모델링에 적합하도록 정제요소를 선별하세요.\n",
    "  * 데이터들의 패턴 탐색\n",
    "  * 변수들간의 관계 파악"
   ]
  },
  {
   "cell_type": "code",
   "execution_count": null,
   "id": "194ae01d",
   "metadata": {},
   "outputs": [],
   "source": [
    "# 시각화 한글폰트 설정\n",
    "import seaborn as sns\n",
    "import matplotlib.pyplot as plt\n",
    "\n",
    "plt.rc('font', family='Malgun Gothic')\n",
    "sns.set(font=\"Malgun Gothic\",#\"NanumGothicCoding\", \n",
    "        rc={\"axes.unicode_minus\":False}, # 마이너스 부호 깨짐 현상 해결\n",
    "        style='darkgrid')        "
   ]
  },
  {
   "cell_type": "markdown",
   "id": "material-complex",
   "metadata": {},
   "source": [
    "#### [3.3.1] 데이터 분포 알아보기\n",
    "* 다양한 변수를 기준으로 그래프를 그려보고 인사이트를 도출해보세요."
   ]
  },
  {
   "cell_type": "code",
   "execution_count": null,
   "id": "acffc469",
   "metadata": {},
   "outputs": [],
   "source": [
    "# 아래에 실습코드를 작성하고 결과를 확인합니다.\n",
    "\n"
   ]
  },
  {
   "cell_type": "code",
   "execution_count": null,
   "id": "86892a60",
   "metadata": {},
   "outputs": [],
   "source": [
    "# 위 차트를 통해 알게된 사실을 정리해봅시다.\n",
    "# 1. \n",
    "# 2.\n",
    "# 3."
   ]
  },
  {
   "cell_type": "markdown",
   "id": "450fcfaa",
   "metadata": {},
   "source": [
    "---"
   ]
  }
 ],
 "metadata": {
  "kernelspec": {
   "display_name": "Python 3 (ipykernel)",
   "language": "python",
   "name": "python3"
  },
  "language_info": {
   "codemirror_mode": {
    "name": "ipython",
    "version": 3
   },
   "file_extension": ".py",
   "mimetype": "text/x-python",
   "name": "python",
   "nbconvert_exporter": "python",
   "pygments_lexer": "ipython3",
   "version": "3.11.3"
  },
  "vscode": {
   "interpreter": {
    "hash": "f08154012ddadd8e950e6e9e035c7a7b32c136e7647e9b7c77e02eb723a8bedb"
   }
  }
 },
 "nbformat": 4,
 "nbformat_minor": 5
}
