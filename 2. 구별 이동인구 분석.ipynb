{
 "cells": [
  {
   "cell_type": "markdown",
   "id": "boxed-jamaica",
   "metadata": {},
   "source": [
    "## AIVLE School [AI 미니프로젝트] '서울시 생활정보 기반 대중교통 수요 분석'<br>"
   ]
  },
  {
   "cell_type": "markdown",
   "id": "ef575059",
   "metadata": {},
   "source": [
    "---"
   ]
  },
  {
   "cell_type": "markdown",
   "id": "34240df3-be29-4343-b516-a37b52d7f813",
   "metadata": {},
   "source": [
    "# 2. 구 별 이동인구 분석\n",
    "### 서울시 생활이동 정보를 기반으로 서울시 자치구 별 이동인구를 분석합니다"
   ]
  },
  {
   "cell_type": "code",
   "execution_count": 1,
   "id": "4c6ced42",
   "metadata": {},
   "outputs": [
    {
     "name": "stdout",
     "output_type": "stream",
     "text": [
      "Requirement already satisfied: pandas in c:\\users\\user\\anaconda3\\lib\\site-packages (1.5.3)Note: you may need to restart the kernel to use updated packages.\n",
      "\n",
      "Requirement already satisfied: seaborn in c:\\users\\user\\anaconda3\\lib\\site-packages (0.12.2)\n",
      "Requirement already satisfied: python-dateutil>=2.8.1 in c:\\users\\user\\anaconda3\\lib\\site-packages (from pandas) (2.8.2)\n",
      "Requirement already satisfied: pytz>=2020.1 in c:\\users\\user\\anaconda3\\lib\\site-packages (from pandas) (2022.7)\n",
      "Requirement already satisfied: numpy>=1.21.0 in c:\\users\\user\\anaconda3\\lib\\site-packages (from pandas) (1.24.3)\n",
      "Requirement already satisfied: matplotlib!=3.6.1,>=3.1 in c:\\users\\user\\anaconda3\\lib\\site-packages (from seaborn) (3.7.1)\n",
      "Requirement already satisfied: contourpy>=1.0.1 in c:\\users\\user\\anaconda3\\lib\\site-packages (from matplotlib!=3.6.1,>=3.1->seaborn) (1.0.5)\n",
      "Requirement already satisfied: cycler>=0.10 in c:\\users\\user\\anaconda3\\lib\\site-packages (from matplotlib!=3.6.1,>=3.1->seaborn) (0.11.0)\n",
      "Requirement already satisfied: fonttools>=4.22.0 in c:\\users\\user\\anaconda3\\lib\\site-packages (from matplotlib!=3.6.1,>=3.1->seaborn) (4.25.0)\n",
      "Requirement already satisfied: kiwisolver>=1.0.1 in c:\\users\\user\\anaconda3\\lib\\site-packages (from matplotlib!=3.6.1,>=3.1->seaborn) (1.4.4)\n",
      "Requirement already satisfied: packaging>=20.0 in c:\\users\\user\\anaconda3\\lib\\site-packages (from matplotlib!=3.6.1,>=3.1->seaborn) (23.0)\n",
      "Requirement already satisfied: pillow>=6.2.0 in c:\\users\\user\\anaconda3\\lib\\site-packages (from matplotlib!=3.6.1,>=3.1->seaborn) (9.4.0)\n",
      "Requirement already satisfied: pyparsing>=2.3.1 in c:\\users\\user\\anaconda3\\lib\\site-packages (from matplotlib!=3.6.1,>=3.1->seaborn) (3.0.9)\n",
      "Requirement already satisfied: six>=1.5 in c:\\users\\user\\anaconda3\\lib\\site-packages (from python-dateutil>=2.8.1->pandas) (1.16.0)\n"
     ]
    }
   ],
   "source": [
    "# 필요 라이브러리를 설치합니다.\n",
    "%pip install pandas seaborn"
   ]
  },
  {
   "cell_type": "markdown",
   "id": "revolutionary-farmer",
   "metadata": {},
   "source": [
    "## 데이터 안내\n",
    "\n",
    "[데이터 파일명]\n",
    "* 2. seoul_moving.csv\n",
    "\n",
    "[데이터 정보]\n",
    "* 서울 시 구별 이동 2022년 4월 데이터\n",
    "\n",
    "[데이터 컬럼 정보]\n",
    "* 도착시간 : 0 -> \"0:00~0:59\"를 의미 \n",
    "* 출발 자치구 : 자치구 코드\n",
    "* 성별 : F(여성), M(남성)\n",
    "* 나이 : 10 ~ 79세 (5세 단위), 0 ~ 10세, 80세 이상으로 구분\n",
    "* 유형 : H(야간상주지), W(주간상주지), E(기타)\n",
    "* 평균 이동 시간 : 동일 열 내 이동인구의 월 단위 평균 이동 시간 (10분단위)\n",
    "* 이동인구 : 추정 합산값으로 소수점 표출, 개인정보 비식별화를 위해 3명 미만(0~3)의 경우 * 처리"
   ]
  },
  {
   "cell_type": "markdown",
   "id": "matched-broad",
   "metadata": {},
   "source": [
    "---"
   ]
  },
  {
   "cell_type": "markdown",
   "id": "warming-gentleman",
   "metadata": {},
   "source": [
    "# 2.1.데이터 불러오기"
   ]
  },
  {
   "cell_type": "markdown",
   "id": "d666c823-584d-46bb-a426-0f46e52cd9bc",
   "metadata": {},
   "source": [
    "#### [2.1.1] 데이터 로딩\n",
    "* Pandas 라이브러리를 활용해서 '2. seoul_moving.csv'파일을 'seoul_moving' 변수에 저장하세요.\n",
    "    * 데이터 파일 로딩시 참고 사항 \n",
    "        * 구분자(sep)는 ',' 입니다\n",
    "        * UTF-8 인코더를 사용해 주세요\n",
    "        * index column은 0번 열 입니다\n",
    "    * 데이터를 불러올 때 오류가 발생한다면, 오류에 대해 직접 검색하여 해결해보세요."
   ]
  },
  {
   "cell_type": "code",
   "execution_count": 2,
   "id": "70d89a24-2c3b-4370-a4f5-981eed90594b",
   "metadata": {},
   "outputs": [],
   "source": [
    "import sys\n",
    "import numpy as np\n",
    "import pandas as pd"
   ]
  },
  {
   "cell_type": "code",
   "execution_count": 3,
   "id": "saving-slope",
   "metadata": {},
   "outputs": [],
   "source": [
    "# 아래에 코드를 작성하고 결과를 확인합니다.\n",
    "path='2.seoul_moving.csv'\n",
    "seoul_moving = pd.read_csv('2. seoul_moving.csv',encoding='utf-8')"
   ]
  },
  {
   "cell_type": "code",
   "execution_count": 4,
   "id": "funny-subcommittee",
   "metadata": {},
   "outputs": [
    {
     "data": {
      "text/plain": [
       "(28923054, 11)"
      ]
     },
     "execution_count": 4,
     "metadata": {},
     "output_type": "execute_result"
    }
   ],
   "source": [
    "# 데이터 프레임의 Shape을 확인합니다.\n",
    "seoul_moving.shape"
   ]
  },
  {
   "cell_type": "markdown",
   "id": "73396b42",
   "metadata": {},
   "source": [
    "---"
   ]
  },
  {
   "cell_type": "markdown",
   "id": "annoying-trout",
   "metadata": {},
   "source": [
    "# 2.2.기본 정보 확인 및 클렌징\n",
    "\n",
    "+ 데이터 클렌징 : 결측치, 이상치 등을 제거하여 데이터 분석 결과가 왜곡 되는 문제를 방지하기 위한 정제 과정"
   ]
  },
  {
   "cell_type": "markdown",
   "id": "9399679e-6a75-4719-b1f5-d05090bc6f6c",
   "metadata": {},
   "source": [
    "#### [2.2.1] 기본 정보 확인하기\n",
    "* 'seoul_moving' 데이터의 정보를 확인해보세요.\n",
    "* 'describe', 'info', 'head', 'tail' 등 전부 활용해 보세요."
   ]
  },
  {
   "cell_type": "code",
   "execution_count": 5,
   "id": "demographic-battery",
   "metadata": {},
   "outputs": [
    {
     "data": {
      "text/html": [
       "<div>\n",
       "<style scoped>\n",
       "    .dataframe tbody tr th:only-of-type {\n",
       "        vertical-align: middle;\n",
       "    }\n",
       "\n",
       "    .dataframe tbody tr th {\n",
       "        vertical-align: top;\n",
       "    }\n",
       "\n",
       "    .dataframe thead th {\n",
       "        text-align: right;\n",
       "    }\n",
       "</style>\n",
       "<table border=\"1\" class=\"dataframe\">\n",
       "  <thead>\n",
       "    <tr style=\"text-align: right;\">\n",
       "      <th></th>\n",
       "      <th>Unnamed: 0</th>\n",
       "      <th>대상연월</th>\n",
       "      <th>도착시간</th>\n",
       "      <th>출발 시군구 코드</th>\n",
       "      <th>도착 시군구 코드</th>\n",
       "      <th>나이</th>\n",
       "      <th>평균 이동 시간(분)</th>\n",
       "    </tr>\n",
       "  </thead>\n",
       "  <tbody>\n",
       "    <tr>\n",
       "      <th>count</th>\n",
       "      <td>2.892305e+07</td>\n",
       "      <td>28923054.0</td>\n",
       "      <td>2.892305e+07</td>\n",
       "      <td>2.892305e+07</td>\n",
       "      <td>2.892305e+07</td>\n",
       "      <td>2.892305e+07</td>\n",
       "      <td>2.892305e+07</td>\n",
       "    </tr>\n",
       "    <tr>\n",
       "      <th>mean</th>\n",
       "      <td>7.141390e+05</td>\n",
       "      <td>202204.0</td>\n",
       "      <td>1.365597e+01</td>\n",
       "      <td>1.712362e+04</td>\n",
       "      <td>1.719750e+04</td>\n",
       "      <td>4.279614e+01</td>\n",
       "      <td>3.279829e+01</td>\n",
       "    </tr>\n",
       "    <tr>\n",
       "      <th>std</th>\n",
       "      <td>4.753792e+05</td>\n",
       "      <td>0.0</td>\n",
       "      <td>5.849675e+00</td>\n",
       "      <td>9.046478e+03</td>\n",
       "      <td>9.063818e+03</td>\n",
       "      <td>1.777485e+01</td>\n",
       "      <td>2.584213e+01</td>\n",
       "    </tr>\n",
       "    <tr>\n",
       "      <th>min</th>\n",
       "      <td>0.000000e+00</td>\n",
       "      <td>202204.0</td>\n",
       "      <td>0.000000e+00</td>\n",
       "      <td>1.101000e+04</td>\n",
       "      <td>1.101000e+04</td>\n",
       "      <td>0.000000e+00</td>\n",
       "      <td>1.000000e+01</td>\n",
       "    </tr>\n",
       "    <tr>\n",
       "      <th>25%</th>\n",
       "      <td>3.012810e+05</td>\n",
       "      <td>202204.0</td>\n",
       "      <td>1.000000e+01</td>\n",
       "      <td>1.110000e+04</td>\n",
       "      <td>1.111000e+04</td>\n",
       "      <td>3.000000e+01</td>\n",
       "      <td>2.000000e+01</td>\n",
       "    </tr>\n",
       "    <tr>\n",
       "      <th>50%</th>\n",
       "      <td>6.556670e+05</td>\n",
       "      <td>202204.0</td>\n",
       "      <td>1.400000e+01</td>\n",
       "      <td>1.120000e+04</td>\n",
       "      <td>1.120000e+04</td>\n",
       "      <td>4.500000e+01</td>\n",
       "      <td>3.000000e+01</td>\n",
       "    </tr>\n",
       "    <tr>\n",
       "      <th>75%</th>\n",
       "      <td>1.082991e+06</td>\n",
       "      <td>202204.0</td>\n",
       "      <td>1.800000e+01</td>\n",
       "      <td>3.101400e+04</td>\n",
       "      <td>3.102100e+04</td>\n",
       "      <td>5.500000e+01</td>\n",
       "      <td>4.000000e+01</td>\n",
       "    </tr>\n",
       "    <tr>\n",
       "      <th>max</th>\n",
       "      <td>1.871922e+06</td>\n",
       "      <td>202204.0</td>\n",
       "      <td>2.300000e+01</td>\n",
       "      <td>3.900000e+04</td>\n",
       "      <td>3.900000e+04</td>\n",
       "      <td>8.000000e+01</td>\n",
       "      <td>7.700000e+02</td>\n",
       "    </tr>\n",
       "  </tbody>\n",
       "</table>\n",
       "</div>"
      ],
      "text/plain": [
       "         Unnamed: 0        대상연월          도착시간     출발 시군구 코드     도착 시군구 코드  \\\n",
       "count  2.892305e+07  28923054.0  2.892305e+07  2.892305e+07  2.892305e+07   \n",
       "mean   7.141390e+05    202204.0  1.365597e+01  1.712362e+04  1.719750e+04   \n",
       "std    4.753792e+05         0.0  5.849675e+00  9.046478e+03  9.063818e+03   \n",
       "min    0.000000e+00    202204.0  0.000000e+00  1.101000e+04  1.101000e+04   \n",
       "25%    3.012810e+05    202204.0  1.000000e+01  1.110000e+04  1.111000e+04   \n",
       "50%    6.556670e+05    202204.0  1.400000e+01  1.120000e+04  1.120000e+04   \n",
       "75%    1.082991e+06    202204.0  1.800000e+01  3.101400e+04  3.102100e+04   \n",
       "max    1.871922e+06    202204.0  2.300000e+01  3.900000e+04  3.900000e+04   \n",
       "\n",
       "                 나이   평균 이동 시간(분)  \n",
       "count  2.892305e+07  2.892305e+07  \n",
       "mean   4.279614e+01  3.279829e+01  \n",
       "std    1.777485e+01  2.584213e+01  \n",
       "min    0.000000e+00  1.000000e+01  \n",
       "25%    3.000000e+01  2.000000e+01  \n",
       "50%    4.500000e+01  3.000000e+01  \n",
       "75%    5.500000e+01  4.000000e+01  \n",
       "max    8.000000e+01  7.700000e+02  "
      ]
     },
     "execution_count": 5,
     "metadata": {},
     "output_type": "execute_result"
    }
   ],
   "source": [
    "# 아래에 코드를 작성하고 결과를 확인합니다.\n",
    "seoul_moving.describe()"
   ]
  },
  {
   "cell_type": "code",
   "execution_count": 6,
   "id": "940a114a",
   "metadata": {},
   "outputs": [
    {
     "name": "stdout",
     "output_type": "stream",
     "text": [
      "<class 'pandas.core.frame.DataFrame'>\n",
      "RangeIndex: 28923054 entries, 0 to 28923053\n",
      "Data columns (total 11 columns):\n",
      " #   Column       Dtype \n",
      "---  ------       ----- \n",
      " 0   Unnamed: 0   int64 \n",
      " 1   대상연월         int64 \n",
      " 2   요일           object\n",
      " 3   도착시간         int64 \n",
      " 4   출발 시군구 코드    int64 \n",
      " 5   도착 시군구 코드    int64 \n",
      " 6   성별           object\n",
      " 7   나이           int64 \n",
      " 8   이동유형         object\n",
      " 9   평균 이동 시간(분)  int64 \n",
      " 10  이동인구(합)      object\n",
      "dtypes: int64(7), object(4)\n",
      "memory usage: 2.4+ GB\n"
     ]
    }
   ],
   "source": [
    "# 아래에 코드를 작성하고 결과를 확인합니다.\n",
    "seoul_moving.info()"
   ]
  },
  {
   "cell_type": "code",
   "execution_count": 7,
   "id": "7343fadf",
   "metadata": {},
   "outputs": [
    {
     "data": {
      "text/html": [
       "<div>\n",
       "<style scoped>\n",
       "    .dataframe tbody tr th:only-of-type {\n",
       "        vertical-align: middle;\n",
       "    }\n",
       "\n",
       "    .dataframe tbody tr th {\n",
       "        vertical-align: top;\n",
       "    }\n",
       "\n",
       "    .dataframe thead th {\n",
       "        text-align: right;\n",
       "    }\n",
       "</style>\n",
       "<table border=\"1\" class=\"dataframe\">\n",
       "  <thead>\n",
       "    <tr style=\"text-align: right;\">\n",
       "      <th></th>\n",
       "      <th>Unnamed: 0</th>\n",
       "      <th>대상연월</th>\n",
       "      <th>요일</th>\n",
       "      <th>도착시간</th>\n",
       "      <th>출발 시군구 코드</th>\n",
       "      <th>도착 시군구 코드</th>\n",
       "      <th>성별</th>\n",
       "      <th>나이</th>\n",
       "      <th>이동유형</th>\n",
       "      <th>평균 이동 시간(분)</th>\n",
       "      <th>이동인구(합)</th>\n",
       "    </tr>\n",
       "  </thead>\n",
       "  <tbody>\n",
       "    <tr>\n",
       "      <th>0</th>\n",
       "      <td>0</td>\n",
       "      <td>202204</td>\n",
       "      <td>일</td>\n",
       "      <td>0</td>\n",
       "      <td>11010</td>\n",
       "      <td>11010</td>\n",
       "      <td>F</td>\n",
       "      <td>0</td>\n",
       "      <td>EE</td>\n",
       "      <td>10</td>\n",
       "      <td>28.02</td>\n",
       "    </tr>\n",
       "    <tr>\n",
       "      <th>1</th>\n",
       "      <td>1</td>\n",
       "      <td>202204</td>\n",
       "      <td>일</td>\n",
       "      <td>0</td>\n",
       "      <td>11010</td>\n",
       "      <td>11010</td>\n",
       "      <td>F</td>\n",
       "      <td>0</td>\n",
       "      <td>EH</td>\n",
       "      <td>10</td>\n",
       "      <td>27.52</td>\n",
       "    </tr>\n",
       "    <tr>\n",
       "      <th>2</th>\n",
       "      <td>2</td>\n",
       "      <td>202204</td>\n",
       "      <td>일</td>\n",
       "      <td>0</td>\n",
       "      <td>11010</td>\n",
       "      <td>11010</td>\n",
       "      <td>F</td>\n",
       "      <td>0</td>\n",
       "      <td>HE</td>\n",
       "      <td>10</td>\n",
       "      <td>27.83</td>\n",
       "    </tr>\n",
       "    <tr>\n",
       "      <th>3</th>\n",
       "      <td>3</td>\n",
       "      <td>202204</td>\n",
       "      <td>일</td>\n",
       "      <td>0</td>\n",
       "      <td>11010</td>\n",
       "      <td>11010</td>\n",
       "      <td>F</td>\n",
       "      <td>10</td>\n",
       "      <td>HW</td>\n",
       "      <td>10</td>\n",
       "      <td>6.05</td>\n",
       "    </tr>\n",
       "    <tr>\n",
       "      <th>4</th>\n",
       "      <td>4</td>\n",
       "      <td>202204</td>\n",
       "      <td>일</td>\n",
       "      <td>0</td>\n",
       "      <td>11010</td>\n",
       "      <td>11010</td>\n",
       "      <td>F</td>\n",
       "      <td>10</td>\n",
       "      <td>EH</td>\n",
       "      <td>90</td>\n",
       "      <td>5.95</td>\n",
       "    </tr>\n",
       "  </tbody>\n",
       "</table>\n",
       "</div>"
      ],
      "text/plain": [
       "   Unnamed: 0    대상연월 요일  도착시간  출발 시군구 코드  도착 시군구 코드 성별  나이 이동유형  평균 이동 시간(분)  \\\n",
       "0           0  202204  일     0      11010      11010  F   0   EE           10   \n",
       "1           1  202204  일     0      11010      11010  F   0   EH           10   \n",
       "2           2  202204  일     0      11010      11010  F   0   HE           10   \n",
       "3           3  202204  일     0      11010      11010  F  10   HW           10   \n",
       "4           4  202204  일     0      11010      11010  F  10   EH           90   \n",
       "\n",
       "  이동인구(합)  \n",
       "0   28.02  \n",
       "1   27.52  \n",
       "2   27.83  \n",
       "3    6.05  \n",
       "4    5.95  "
      ]
     },
     "execution_count": 7,
     "metadata": {},
     "output_type": "execute_result"
    }
   ],
   "source": [
    "# 아래에 코드를 작성하고 결과를 확인합니다.\n",
    "seoul_moving.head(5)"
   ]
  },
  {
   "cell_type": "code",
   "execution_count": 8,
   "id": "91ee0f86-3171-4180-8bb9-c86d83daed94",
   "metadata": {},
   "outputs": [
    {
     "data": {
      "text/html": [
       "<div>\n",
       "<style scoped>\n",
       "    .dataframe tbody tr th:only-of-type {\n",
       "        vertical-align: middle;\n",
       "    }\n",
       "\n",
       "    .dataframe tbody tr th {\n",
       "        vertical-align: top;\n",
       "    }\n",
       "\n",
       "    .dataframe thead th {\n",
       "        text-align: right;\n",
       "    }\n",
       "</style>\n",
       "<table border=\"1\" class=\"dataframe\">\n",
       "  <thead>\n",
       "    <tr style=\"text-align: right;\">\n",
       "      <th></th>\n",
       "      <th>Unnamed: 0</th>\n",
       "      <th>대상연월</th>\n",
       "      <th>요일</th>\n",
       "      <th>도착시간</th>\n",
       "      <th>출발 시군구 코드</th>\n",
       "      <th>도착 시군구 코드</th>\n",
       "      <th>성별</th>\n",
       "      <th>나이</th>\n",
       "      <th>이동유형</th>\n",
       "      <th>평균 이동 시간(분)</th>\n",
       "      <th>이동인구(합)</th>\n",
       "    </tr>\n",
       "  </thead>\n",
       "  <tbody>\n",
       "    <tr>\n",
       "      <th>28923049</th>\n",
       "      <td>968458</td>\n",
       "      <td>202204</td>\n",
       "      <td>토</td>\n",
       "      <td>23</td>\n",
       "      <td>39000</td>\n",
       "      <td>11250</td>\n",
       "      <td>M</td>\n",
       "      <td>45</td>\n",
       "      <td>EH</td>\n",
       "      <td>50</td>\n",
       "      <td>3.16</td>\n",
       "    </tr>\n",
       "    <tr>\n",
       "      <th>28923050</th>\n",
       "      <td>968459</td>\n",
       "      <td>202204</td>\n",
       "      <td>토</td>\n",
       "      <td>23</td>\n",
       "      <td>39000</td>\n",
       "      <td>11250</td>\n",
       "      <td>M</td>\n",
       "      <td>50</td>\n",
       "      <td>EH</td>\n",
       "      <td>70</td>\n",
       "      <td>3.27</td>\n",
       "    </tr>\n",
       "    <tr>\n",
       "      <th>28923051</th>\n",
       "      <td>968460</td>\n",
       "      <td>202204</td>\n",
       "      <td>토</td>\n",
       "      <td>23</td>\n",
       "      <td>39000</td>\n",
       "      <td>11250</td>\n",
       "      <td>M</td>\n",
       "      <td>55</td>\n",
       "      <td>EE</td>\n",
       "      <td>50</td>\n",
       "      <td>3.31</td>\n",
       "    </tr>\n",
       "    <tr>\n",
       "      <th>28923052</th>\n",
       "      <td>968461</td>\n",
       "      <td>202204</td>\n",
       "      <td>토</td>\n",
       "      <td>23</td>\n",
       "      <td>39000</td>\n",
       "      <td>11250</td>\n",
       "      <td>M</td>\n",
       "      <td>55</td>\n",
       "      <td>EH</td>\n",
       "      <td>50</td>\n",
       "      <td>3.28</td>\n",
       "    </tr>\n",
       "    <tr>\n",
       "      <th>28923053</th>\n",
       "      <td>968462</td>\n",
       "      <td>202204</td>\n",
       "      <td>토</td>\n",
       "      <td>23</td>\n",
       "      <td>39000</td>\n",
       "      <td>11250</td>\n",
       "      <td>M</td>\n",
       "      <td>75</td>\n",
       "      <td>EH</td>\n",
       "      <td>30</td>\n",
       "      <td>5.94</td>\n",
       "    </tr>\n",
       "  </tbody>\n",
       "</table>\n",
       "</div>"
      ],
      "text/plain": [
       "          Unnamed: 0    대상연월 요일  도착시간  출발 시군구 코드  도착 시군구 코드 성별  나이 이동유형  \\\n",
       "28923049      968458  202204  토    23      39000      11250  M  45   EH   \n",
       "28923050      968459  202204  토    23      39000      11250  M  50   EH   \n",
       "28923051      968460  202204  토    23      39000      11250  M  55   EE   \n",
       "28923052      968461  202204  토    23      39000      11250  M  55   EH   \n",
       "28923053      968462  202204  토    23      39000      11250  M  75   EH   \n",
       "\n",
       "          평균 이동 시간(분) 이동인구(합)  \n",
       "28923049           50    3.16  \n",
       "28923050           70    3.27  \n",
       "28923051           50    3.31  \n",
       "28923052           50    3.28  \n",
       "28923053           30    5.94  "
      ]
     },
     "execution_count": 8,
     "metadata": {},
     "output_type": "execute_result"
    }
   ],
   "source": [
    "# 아래에 코드를 작성하고 결과를 확인합니다.\n",
    "seoul_moving.tail(5)"
   ]
  },
  {
   "cell_type": "markdown",
   "id": "b90fd066",
   "metadata": {},
   "source": [
    "* [참고] 1번 열의 의미\n",
    "    * \" 2022년 4월 일요일에 11010(종로구)에서 11010(종로구)으로 이동하여 0시 ~ 0시 59분 사이에 도착했고, E(기타)에서 H(야간상주지(집))으로 이동한 0 ~ 10세 여성은 총 27.52명이며 이들의 평균 이동시간은 10분이다"
   ]
  },
  {
   "cell_type": "markdown",
   "id": "003322b3",
   "metadata": {},
   "source": [
    "#### [2.2.2] 결측치 처리 (NaN이 아닌 결측치 처리)\n",
    "\n",
    "* '이동인구(합)' column은 이동 인구의 합산인데 숫자가 아닌 object 타입입니다. \n",
    "\n",
    "    - 왜 일까요? \n",
    "\n",
    "    - Tip! (이동인구 : 추정 합산값으로 소수점 표출, 개인정보 비식별화를 위해 3명 미만 즉, 값이 0~3일 경우 별표 * 처리)\n",
    "\n",
    "    - 해당 값을 어떻게 처리하는 것이 좋을 지 생각해보아서 각자의 방법으로 변경하세요\n",
    "\n",
    "    - '인구이동(합)' 컬럼의 데이터 타입을 수치형으로 변경하세요 "
   ]
  },
  {
   "cell_type": "code",
   "execution_count": 9,
   "id": "64977ed3",
   "metadata": {},
   "outputs": [
    {
     "data": {
      "text/plain": [
       "*          3842041\n",
       "3.3         399374\n",
       "6.05        366830\n",
       "3.29        289731\n",
       "3.31        232069\n",
       "            ...   \n",
       "2352.37          1\n",
       "1617.99          1\n",
       "3141.86          1\n",
       "1485.54          1\n",
       "979.87           1\n",
       "Name: 이동인구(합), Length: 135812, dtype: int64"
      ]
     },
     "execution_count": 9,
     "metadata": {},
     "output_type": "execute_result"
    }
   ],
   "source": [
    "# 이동인구(합) 컬럼의 값 별로 개수를 세어봅니다.\n",
    "seoul_moving['이동인구(합)'].value_counts()\n"
   ]
  },
  {
   "cell_type": "code",
   "execution_count": 10,
   "id": "703fc8b7",
   "metadata": {},
   "outputs": [],
   "source": [
    "# 별표(*)로 표현된 값을 대체합니다.\n",
    "# 해당 값을 어떻게 처리하는 것이 좋을 지 생각해보아서value_counts 방법으로 변경하세요\n",
    "#(ex: 최빈값, 평균값도 알 수 없으므로 0~3의 중위값인 1.5로 대체)\n",
    "seoul_moving['이동인구(합)']=np.where(seoul_moving['이동인구(합)']=='*',1.5,seoul_moving['이동인구(합)'])"
   ]
  },
  {
   "cell_type": "code",
   "execution_count": 11,
   "id": "eefe243e",
   "metadata": {},
   "outputs": [
    {
     "data": {
      "text/plain": [
       "1.5        3842041\n",
       "3.3         399374\n",
       "6.05        366830\n",
       "3.29        289731\n",
       "3.31        232069\n",
       "            ...   \n",
       "2352.37          1\n",
       "1617.99          1\n",
       "3141.86          1\n",
       "1485.54          1\n",
       "979.87           1\n",
       "Name: 이동인구(합), Length: 135812, dtype: int64"
      ]
     },
     "execution_count": 11,
     "metadata": {},
     "output_type": "execute_result"
    }
   ],
   "source": [
    "# 이동인구(합) 컬럼의 값 별로 개수를 다시 세어봅니다.\n",
    "seoul_moving['이동인구(합)'].value_counts()"
   ]
  },
  {
   "cell_type": "code",
   "execution_count": 12,
   "id": "3ec3c54b",
   "metadata": {},
   "outputs": [
    {
     "data": {
      "text/plain": [
       "Unnamed: 0       int64\n",
       "대상연월             int64\n",
       "요일              object\n",
       "도착시간             int64\n",
       "출발 시군구 코드        int64\n",
       "도착 시군구 코드        int64\n",
       "성별              object\n",
       "나이               int64\n",
       "이동유형            object\n",
       "평균 이동 시간(분)      int64\n",
       "이동인구(합)        float64\n",
       "dtype: object"
      ]
     },
     "execution_count": 12,
     "metadata": {},
     "output_type": "execute_result"
    }
   ],
   "source": [
    "# 이제 이동인구(합) column의 데이터 타입을 바꿔주세요\n",
    "seoul_moving = seoul_moving.astype({'이동인구(합)':'float64'})\n",
    "seoul_moving.dtypes"
   ]
  },
  {
   "cell_type": "markdown",
   "id": "3666e46c",
   "metadata": {},
   "source": [
    "#### [2.2.3] 이동유형, 요일, 성별 변수의 value수 파악"
   ]
  },
  {
   "cell_type": "code",
   "execution_count": 13,
   "id": "3cd0103e",
   "metadata": {},
   "outputs": [
    {
     "data": {
      "text/plain": [
       "EH    5757073\n",
       "HE    5520005\n",
       "EE    5085099\n",
       "WH    3108026\n",
       "WE    2809148\n",
       "HW    2695189\n",
       "EW    2304535\n",
       "WW    1026134\n",
       "HH     617845\n",
       "Name: 이동유형, dtype: int64"
      ]
     },
     "execution_count": 13,
     "metadata": {},
     "output_type": "execute_result"
    }
   ],
   "source": [
    "# 이동유형 컬럼의 값 별로 개수를 세어봅니다.\n",
    "# H(야간상주지), W(주간상주지), E(기타)\n",
    "seoul_moving['이동유형'].value_counts()"
   ]
  },
  {
   "cell_type": "code",
   "execution_count": 14,
   "id": "1cdd246f",
   "metadata": {},
   "outputs": [
    {
     "data": {
      "text/plain": [
       "토    4690806\n",
       "금    4641881\n",
       "목    4011291\n",
       "수    3955646\n",
       "화    3926876\n",
       "월    3906272\n",
       "일    3790282\n",
       "Name: 요일, dtype: int64"
      ]
     },
     "execution_count": 14,
     "metadata": {},
     "output_type": "execute_result"
    }
   ],
   "source": [
    "# 요일 컬럼의 값 별로 개수를 세어봅니다.\n",
    "seoul_moving['요일'].value_counts()"
   ]
  },
  {
   "cell_type": "markdown",
   "id": "ba257395",
   "metadata": {},
   "source": [
    "* [참고] 2022년 4월의 요일 수는 다음과 같습니다.\n",
    "    * 일 : 4, 월 : 4, 화 : 4, 수 : 4, 목 : 4, 금 : 5, 토 : 5"
   ]
  },
  {
   "cell_type": "code",
   "execution_count": 15,
   "id": "c3f440b9",
   "metadata": {},
   "outputs": [
    {
     "data": {
      "text/plain": [
       "M    16355029\n",
       "F    12568025\n",
       "Name: 성별, dtype: int64"
      ]
     },
     "execution_count": 15,
     "metadata": {},
     "output_type": "execute_result"
    }
   ],
   "source": [
    "# 성별 컬럼의 값 별로 개수를 세어봅니다.\n",
    "seoul_moving['성별'].value_counts()\n"
   ]
  },
  {
   "cell_type": "markdown",
   "id": "6356b00c",
   "metadata": {},
   "source": [
    "#### [2.2.4] 심야 이동이 가장 많은 요일 확인"
   ]
  },
  {
   "cell_type": "code",
   "execution_count": 16,
   "id": "470c3d5d",
   "metadata": {},
   "outputs": [
    {
     "data": {
      "text/plain": [
       "'토'"
      ]
     },
     "execution_count": 16,
     "metadata": {},
     "output_type": "execute_result"
    }
   ],
   "source": [
    "# 아래에 코드를 작성하고 결과를 확인합니다.\n",
    "# 심야시간은 0:00~ 4:59\n",
    "seoul_moving.loc[seoul_moving['도착시간'].between(0,4)].groupby('요일')['도착시간'].count().idxmax()\n",
    "# est= temp.loc[temp['도착시간']<=4].groupby('요일')[['이동인구(합)']].count().idxmax()"
   ]
  },
  {
   "cell_type": "markdown",
   "id": "45594fc1",
   "metadata": {},
   "source": [
    "#### [2.2.5] 서울 지역의 데이터만 추출\n",
    "\n",
    "* 서울시의 데이터만 필요하므로 출발과 도착이 모두 서울인 데이터만 추출하세요.\n",
    "* 아래 사이트에서 서울시 데이터만 추출하기 위해 필요한 정보를 탐색해보세요. (ex. 자치구 코드 정보)\n",
    "https://data.seoul.go.kr/dataVisual/seoul/seoulLivingMigration.do"
   ]
  },
  {
   "cell_type": "code",
   "execution_count": 17,
   "id": "fab14a50",
   "metadata": {},
   "outputs": [
    {
     "data": {
      "text/html": [
       "<div>\n",
       "<style scoped>\n",
       "    .dataframe tbody tr th:only-of-type {\n",
       "        vertical-align: middle;\n",
       "    }\n",
       "\n",
       "    .dataframe tbody tr th {\n",
       "        vertical-align: top;\n",
       "    }\n",
       "\n",
       "    .dataframe thead th {\n",
       "        text-align: right;\n",
       "    }\n",
       "</style>\n",
       "<table border=\"1\" class=\"dataframe\">\n",
       "  <thead>\n",
       "    <tr style=\"text-align: right;\">\n",
       "      <th></th>\n",
       "      <th>Unnamed: 0</th>\n",
       "      <th>대상연월</th>\n",
       "      <th>요일</th>\n",
       "      <th>도착시간</th>\n",
       "      <th>출발 시군구 코드</th>\n",
       "      <th>도착 시군구 코드</th>\n",
       "      <th>성별</th>\n",
       "      <th>나이</th>\n",
       "      <th>이동유형</th>\n",
       "      <th>평균 이동 시간(분)</th>\n",
       "      <th>이동인구(합)</th>\n",
       "      <th>승차자치구</th>\n",
       "      <th>하차자치구</th>\n",
       "    </tr>\n",
       "  </thead>\n",
       "  <tbody>\n",
       "    <tr>\n",
       "      <th>0</th>\n",
       "      <td>0</td>\n",
       "      <td>202204</td>\n",
       "      <td>일</td>\n",
       "      <td>0</td>\n",
       "      <td>11010</td>\n",
       "      <td>11010</td>\n",
       "      <td>F</td>\n",
       "      <td>0</td>\n",
       "      <td>EE</td>\n",
       "      <td>10</td>\n",
       "      <td>28.02</td>\n",
       "      <td>11</td>\n",
       "      <td>11</td>\n",
       "    </tr>\n",
       "    <tr>\n",
       "      <th>1</th>\n",
       "      <td>1</td>\n",
       "      <td>202204</td>\n",
       "      <td>일</td>\n",
       "      <td>0</td>\n",
       "      <td>11010</td>\n",
       "      <td>11010</td>\n",
       "      <td>F</td>\n",
       "      <td>0</td>\n",
       "      <td>EH</td>\n",
       "      <td>10</td>\n",
       "      <td>27.52</td>\n",
       "      <td>11</td>\n",
       "      <td>11</td>\n",
       "    </tr>\n",
       "    <tr>\n",
       "      <th>2</th>\n",
       "      <td>2</td>\n",
       "      <td>202204</td>\n",
       "      <td>일</td>\n",
       "      <td>0</td>\n",
       "      <td>11010</td>\n",
       "      <td>11010</td>\n",
       "      <td>F</td>\n",
       "      <td>0</td>\n",
       "      <td>HE</td>\n",
       "      <td>10</td>\n",
       "      <td>27.83</td>\n",
       "      <td>11</td>\n",
       "      <td>11</td>\n",
       "    </tr>\n",
       "    <tr>\n",
       "      <th>3</th>\n",
       "      <td>3</td>\n",
       "      <td>202204</td>\n",
       "      <td>일</td>\n",
       "      <td>0</td>\n",
       "      <td>11010</td>\n",
       "      <td>11010</td>\n",
       "      <td>F</td>\n",
       "      <td>10</td>\n",
       "      <td>HW</td>\n",
       "      <td>10</td>\n",
       "      <td>6.05</td>\n",
       "      <td>11</td>\n",
       "      <td>11</td>\n",
       "    </tr>\n",
       "    <tr>\n",
       "      <th>4</th>\n",
       "      <td>4</td>\n",
       "      <td>202204</td>\n",
       "      <td>일</td>\n",
       "      <td>0</td>\n",
       "      <td>11010</td>\n",
       "      <td>11010</td>\n",
       "      <td>F</td>\n",
       "      <td>10</td>\n",
       "      <td>EH</td>\n",
       "      <td>90</td>\n",
       "      <td>5.95</td>\n",
       "      <td>11</td>\n",
       "      <td>11</td>\n",
       "    </tr>\n",
       "    <tr>\n",
       "      <th>...</th>\n",
       "      <td>...</td>\n",
       "      <td>...</td>\n",
       "      <td>...</td>\n",
       "      <td>...</td>\n",
       "      <td>...</td>\n",
       "      <td>...</td>\n",
       "      <td>...</td>\n",
       "      <td>...</td>\n",
       "      <td>...</td>\n",
       "      <td>...</td>\n",
       "      <td>...</td>\n",
       "      <td>...</td>\n",
       "      <td>...</td>\n",
       "    </tr>\n",
       "    <tr>\n",
       "      <th>28923049</th>\n",
       "      <td>968458</td>\n",
       "      <td>202204</td>\n",
       "      <td>토</td>\n",
       "      <td>23</td>\n",
       "      <td>39000</td>\n",
       "      <td>11250</td>\n",
       "      <td>M</td>\n",
       "      <td>45</td>\n",
       "      <td>EH</td>\n",
       "      <td>50</td>\n",
       "      <td>3.16</td>\n",
       "      <td>39</td>\n",
       "      <td>11</td>\n",
       "    </tr>\n",
       "    <tr>\n",
       "      <th>28923050</th>\n",
       "      <td>968459</td>\n",
       "      <td>202204</td>\n",
       "      <td>토</td>\n",
       "      <td>23</td>\n",
       "      <td>39000</td>\n",
       "      <td>11250</td>\n",
       "      <td>M</td>\n",
       "      <td>50</td>\n",
       "      <td>EH</td>\n",
       "      <td>70</td>\n",
       "      <td>3.27</td>\n",
       "      <td>39</td>\n",
       "      <td>11</td>\n",
       "    </tr>\n",
       "    <tr>\n",
       "      <th>28923051</th>\n",
       "      <td>968460</td>\n",
       "      <td>202204</td>\n",
       "      <td>토</td>\n",
       "      <td>23</td>\n",
       "      <td>39000</td>\n",
       "      <td>11250</td>\n",
       "      <td>M</td>\n",
       "      <td>55</td>\n",
       "      <td>EE</td>\n",
       "      <td>50</td>\n",
       "      <td>3.31</td>\n",
       "      <td>39</td>\n",
       "      <td>11</td>\n",
       "    </tr>\n",
       "    <tr>\n",
       "      <th>28923052</th>\n",
       "      <td>968461</td>\n",
       "      <td>202204</td>\n",
       "      <td>토</td>\n",
       "      <td>23</td>\n",
       "      <td>39000</td>\n",
       "      <td>11250</td>\n",
       "      <td>M</td>\n",
       "      <td>55</td>\n",
       "      <td>EH</td>\n",
       "      <td>50</td>\n",
       "      <td>3.28</td>\n",
       "      <td>39</td>\n",
       "      <td>11</td>\n",
       "    </tr>\n",
       "    <tr>\n",
       "      <th>28923053</th>\n",
       "      <td>968462</td>\n",
       "      <td>202204</td>\n",
       "      <td>토</td>\n",
       "      <td>23</td>\n",
       "      <td>39000</td>\n",
       "      <td>11250</td>\n",
       "      <td>M</td>\n",
       "      <td>75</td>\n",
       "      <td>EH</td>\n",
       "      <td>30</td>\n",
       "      <td>5.94</td>\n",
       "      <td>39</td>\n",
       "      <td>11</td>\n",
       "    </tr>\n",
       "  </tbody>\n",
       "</table>\n",
       "<p>28923054 rows × 13 columns</p>\n",
       "</div>"
      ],
      "text/plain": [
       "          Unnamed: 0    대상연월 요일  도착시간  출발 시군구 코드  도착 시군구 코드 성별  나이 이동유형  \\\n",
       "0                  0  202204  일     0      11010      11010  F   0   EE   \n",
       "1                  1  202204  일     0      11010      11010  F   0   EH   \n",
       "2                  2  202204  일     0      11010      11010  F   0   HE   \n",
       "3                  3  202204  일     0      11010      11010  F  10   HW   \n",
       "4                  4  202204  일     0      11010      11010  F  10   EH   \n",
       "...              ...     ... ..   ...        ...        ... ..  ..  ...   \n",
       "28923049      968458  202204  토    23      39000      11250  M  45   EH   \n",
       "28923050      968459  202204  토    23      39000      11250  M  50   EH   \n",
       "28923051      968460  202204  토    23      39000      11250  M  55   EE   \n",
       "28923052      968461  202204  토    23      39000      11250  M  55   EH   \n",
       "28923053      968462  202204  토    23      39000      11250  M  75   EH   \n",
       "\n",
       "          평균 이동 시간(분)  이동인구(합) 승차자치구 하차자치구  \n",
       "0                  10    28.02    11    11  \n",
       "1                  10    27.52    11    11  \n",
       "2                  10    27.83    11    11  \n",
       "3                  10     6.05    11    11  \n",
       "4                  90     5.95    11    11  \n",
       "...               ...      ...   ...   ...  \n",
       "28923049           50     3.16    39    11  \n",
       "28923050           70     3.27    39    11  \n",
       "28923051           50     3.31    39    11  \n",
       "28923052           50     3.28    39    11  \n",
       "28923053           30     5.94    39    11  \n",
       "\n",
       "[28923054 rows x 13 columns]"
      ]
     },
     "execution_count": 17,
     "metadata": {},
     "output_type": "execute_result"
    }
   ],
   "source": [
    "# 출발 시군구 코드, 도착 시군구 코드 활용하여 출발과 도착이 모두 서울인 데이터만 추출해보세요.\n",
    "start=seoul_moving['출발 시군구 코드'].astype(str)\n",
    "end=seoul_moving['도착 시군구 코드'].astype(str)\n",
    "seoul_moving['승차자치구'] = start.str[0:2]\n",
    "seoul_moving['하차자치구'] = end.str[0:2]\n",
    "seoul_moving"
   ]
  },
  {
   "cell_type": "code",
   "execution_count": 18,
   "id": "41245888-f744-48a6-9ffd-af2f3434758c",
   "metadata": {},
   "outputs": [
    {
     "data": {
      "text/html": [
       "<div>\n",
       "<style scoped>\n",
       "    .dataframe tbody tr th:only-of-type {\n",
       "        vertical-align: middle;\n",
       "    }\n",
       "\n",
       "    .dataframe tbody tr th {\n",
       "        vertical-align: top;\n",
       "    }\n",
       "\n",
       "    .dataframe thead th {\n",
       "        text-align: right;\n",
       "    }\n",
       "</style>\n",
       "<table border=\"1\" class=\"dataframe\">\n",
       "  <thead>\n",
       "    <tr style=\"text-align: right;\">\n",
       "      <th></th>\n",
       "      <th>Unnamed: 0</th>\n",
       "      <th>대상연월</th>\n",
       "      <th>요일</th>\n",
       "      <th>도착시간</th>\n",
       "      <th>출발 시군구 코드</th>\n",
       "      <th>도착 시군구 코드</th>\n",
       "      <th>성별</th>\n",
       "      <th>나이</th>\n",
       "      <th>이동유형</th>\n",
       "      <th>평균 이동 시간(분)</th>\n",
       "      <th>이동인구(합)</th>\n",
       "      <th>승차자치구</th>\n",
       "      <th>하차자치구</th>\n",
       "    </tr>\n",
       "  </thead>\n",
       "  <tbody>\n",
       "    <tr>\n",
       "      <th>0</th>\n",
       "      <td>0</td>\n",
       "      <td>202204</td>\n",
       "      <td>일</td>\n",
       "      <td>0</td>\n",
       "      <td>11010</td>\n",
       "      <td>11010</td>\n",
       "      <td>F</td>\n",
       "      <td>0</td>\n",
       "      <td>EE</td>\n",
       "      <td>10</td>\n",
       "      <td>28.02</td>\n",
       "      <td>11</td>\n",
       "      <td>11</td>\n",
       "    </tr>\n",
       "    <tr>\n",
       "      <th>1</th>\n",
       "      <td>1</td>\n",
       "      <td>202204</td>\n",
       "      <td>일</td>\n",
       "      <td>0</td>\n",
       "      <td>11010</td>\n",
       "      <td>11010</td>\n",
       "      <td>F</td>\n",
       "      <td>0</td>\n",
       "      <td>EH</td>\n",
       "      <td>10</td>\n",
       "      <td>27.52</td>\n",
       "      <td>11</td>\n",
       "      <td>11</td>\n",
       "    </tr>\n",
       "    <tr>\n",
       "      <th>2</th>\n",
       "      <td>2</td>\n",
       "      <td>202204</td>\n",
       "      <td>일</td>\n",
       "      <td>0</td>\n",
       "      <td>11010</td>\n",
       "      <td>11010</td>\n",
       "      <td>F</td>\n",
       "      <td>0</td>\n",
       "      <td>HE</td>\n",
       "      <td>10</td>\n",
       "      <td>27.83</td>\n",
       "      <td>11</td>\n",
       "      <td>11</td>\n",
       "    </tr>\n",
       "    <tr>\n",
       "      <th>3</th>\n",
       "      <td>3</td>\n",
       "      <td>202204</td>\n",
       "      <td>일</td>\n",
       "      <td>0</td>\n",
       "      <td>11010</td>\n",
       "      <td>11010</td>\n",
       "      <td>F</td>\n",
       "      <td>10</td>\n",
       "      <td>HW</td>\n",
       "      <td>10</td>\n",
       "      <td>6.05</td>\n",
       "      <td>11</td>\n",
       "      <td>11</td>\n",
       "    </tr>\n",
       "    <tr>\n",
       "      <th>4</th>\n",
       "      <td>4</td>\n",
       "      <td>202204</td>\n",
       "      <td>일</td>\n",
       "      <td>0</td>\n",
       "      <td>11010</td>\n",
       "      <td>11010</td>\n",
       "      <td>F</td>\n",
       "      <td>10</td>\n",
       "      <td>EH</td>\n",
       "      <td>90</td>\n",
       "      <td>5.95</td>\n",
       "      <td>11</td>\n",
       "      <td>11</td>\n",
       "    </tr>\n",
       "    <tr>\n",
       "      <th>...</th>\n",
       "      <td>...</td>\n",
       "      <td>...</td>\n",
       "      <td>...</td>\n",
       "      <td>...</td>\n",
       "      <td>...</td>\n",
       "      <td>...</td>\n",
       "      <td>...</td>\n",
       "      <td>...</td>\n",
       "      <td>...</td>\n",
       "      <td>...</td>\n",
       "      <td>...</td>\n",
       "      <td>...</td>\n",
       "      <td>...</td>\n",
       "    </tr>\n",
       "    <tr>\n",
       "      <th>28875001</th>\n",
       "      <td>920410</td>\n",
       "      <td>202204</td>\n",
       "      <td>토</td>\n",
       "      <td>23</td>\n",
       "      <td>11250</td>\n",
       "      <td>11250</td>\n",
       "      <td>M</td>\n",
       "      <td>80</td>\n",
       "      <td>WH</td>\n",
       "      <td>10</td>\n",
       "      <td>85.10</td>\n",
       "      <td>11</td>\n",
       "      <td>11</td>\n",
       "    </tr>\n",
       "    <tr>\n",
       "      <th>28875002</th>\n",
       "      <td>920411</td>\n",
       "      <td>202204</td>\n",
       "      <td>토</td>\n",
       "      <td>23</td>\n",
       "      <td>11250</td>\n",
       "      <td>11250</td>\n",
       "      <td>M</td>\n",
       "      <td>80</td>\n",
       "      <td>EH</td>\n",
       "      <td>10</td>\n",
       "      <td>28.36</td>\n",
       "      <td>11</td>\n",
       "      <td>11</td>\n",
       "    </tr>\n",
       "    <tr>\n",
       "      <th>28875003</th>\n",
       "      <td>920412</td>\n",
       "      <td>202204</td>\n",
       "      <td>토</td>\n",
       "      <td>23</td>\n",
       "      <td>11250</td>\n",
       "      <td>11250</td>\n",
       "      <td>M</td>\n",
       "      <td>80</td>\n",
       "      <td>EE</td>\n",
       "      <td>20</td>\n",
       "      <td>37.99</td>\n",
       "      <td>11</td>\n",
       "      <td>11</td>\n",
       "    </tr>\n",
       "    <tr>\n",
       "      <th>28875004</th>\n",
       "      <td>920413</td>\n",
       "      <td>202204</td>\n",
       "      <td>토</td>\n",
       "      <td>23</td>\n",
       "      <td>11250</td>\n",
       "      <td>11250</td>\n",
       "      <td>M</td>\n",
       "      <td>80</td>\n",
       "      <td>HE</td>\n",
       "      <td>10</td>\n",
       "      <td>9.42</td>\n",
       "      <td>11</td>\n",
       "      <td>11</td>\n",
       "    </tr>\n",
       "    <tr>\n",
       "      <th>28875005</th>\n",
       "      <td>920414</td>\n",
       "      <td>202204</td>\n",
       "      <td>토</td>\n",
       "      <td>23</td>\n",
       "      <td>11250</td>\n",
       "      <td>11250</td>\n",
       "      <td>M</td>\n",
       "      <td>80</td>\n",
       "      <td>WE</td>\n",
       "      <td>10</td>\n",
       "      <td>9.51</td>\n",
       "      <td>11</td>\n",
       "      <td>11</td>\n",
       "    </tr>\n",
       "  </tbody>\n",
       "</table>\n",
       "<p>10655895 rows × 13 columns</p>\n",
       "</div>"
      ],
      "text/plain": [
       "          Unnamed: 0    대상연월 요일  도착시간  출발 시군구 코드  도착 시군구 코드 성별  나이 이동유형  \\\n",
       "0                  0  202204  일     0      11010      11010  F   0   EE   \n",
       "1                  1  202204  일     0      11010      11010  F   0   EH   \n",
       "2                  2  202204  일     0      11010      11010  F   0   HE   \n",
       "3                  3  202204  일     0      11010      11010  F  10   HW   \n",
       "4                  4  202204  일     0      11010      11010  F  10   EH   \n",
       "...              ...     ... ..   ...        ...        ... ..  ..  ...   \n",
       "28875001      920410  202204  토    23      11250      11250  M  80   WH   \n",
       "28875002      920411  202204  토    23      11250      11250  M  80   EH   \n",
       "28875003      920412  202204  토    23      11250      11250  M  80   EE   \n",
       "28875004      920413  202204  토    23      11250      11250  M  80   HE   \n",
       "28875005      920414  202204  토    23      11250      11250  M  80   WE   \n",
       "\n",
       "          평균 이동 시간(분)  이동인구(합) 승차자치구 하차자치구  \n",
       "0                  10    28.02    11    11  \n",
       "1                  10    27.52    11    11  \n",
       "2                  10    27.83    11    11  \n",
       "3                  10     6.05    11    11  \n",
       "4                  90     5.95    11    11  \n",
       "...               ...      ...   ...   ...  \n",
       "28875001           10    85.10    11    11  \n",
       "28875002           10    28.36    11    11  \n",
       "28875003           20    37.99    11    11  \n",
       "28875004           10     9.42    11    11  \n",
       "28875005           10     9.51    11    11  \n",
       "\n",
       "[10655895 rows x 13 columns]"
      ]
     },
     "execution_count": 18,
     "metadata": {},
     "output_type": "execute_result"
    }
   ],
   "source": [
    "seoul_moving = seoul_moving[(seoul_moving['승차자치구']=='11') & (seoul_moving['하차자치구']=='11')]\n",
    "seoul_moving"
   ]
  },
  {
   "cell_type": "markdown",
   "id": "e968a0ae",
   "metadata": {},
   "source": [
    "#### [2.2.6] 서울지역의 구 별로 groupby하여 데이터를 확인해보세요. (유동인구 기준)\n",
    "\n",
    "* 유출이 제일 많은 구는?\n",
    "\n",
    "* 유입이 제일 많은 구는?\n",
    "\n",
    "* 유출이 제일 적은 구는?\n",
    "\n",
    "* 유입이 제일 적은 구는?"
   ]
  },
  {
   "cell_type": "markdown",
   "id": "ab98b422",
   "metadata": {},
   "source": [
    "* [참고] 서울 구별 코드\n",
    "    * 11010\t종로구\n",
    "    * 11020\t중구\n",
    "    * 11030\t용산구\n",
    "    * 11040\t성동구\n",
    "    * 11050\t광진구\n",
    "    * 11060\t동대문구\n",
    "    * 11070\t중랑구\n",
    "    * 11080\t성북구\n",
    "    * 11090\t강북구\n",
    "    * 11100\t도봉구\n",
    "    * 11110\t노원구\n",
    "    * 11120\t은평구\n",
    "    * 11130\t서대문구\n",
    "    * 11140\t마포구\n",
    "    * 11150\t양천구\n",
    "    * 11160\t강서구\n",
    "    * 11170\t구로구\n",
    "    * 11180\t금천구\n",
    "    * 11190\t영등포구\n",
    "    * 11200\t동작구\n",
    "    * 11210\t관악구\n",
    "    * 11220\t서초구\n",
    "    * 11230\t강남구\n",
    "    * 11240\t송파구\n",
    "    * 11250\t강동구"
   ]
  },
  {
   "cell_type": "code",
   "execution_count": 20,
   "id": "38564819",
   "metadata": {},
   "outputs": [
    {
     "name": "stdout",
     "output_type": "stream",
     "text": [
      "유출이 제일 많은 구는? 11230\n",
      "유입이 제일 많은 구는? 11230\n",
      "유출이 제일 적은 구는? 11180\n",
      "유입이 제일 적은 구는? 11180\n"
     ]
    }
   ],
   "source": [
    "# 아래에 코드를 작성하고 결과를 확인합니다.\n",
    "# 아래에 코드를 작성하고 결과를 확인합니다.\n",
    "print(\"유출이 제일 많은 구는?\",seoul_moving.groupby('출발 시군구 코드')['출발 시군구 코드'].count().idxmax())\n",
    "print(\"유입이 제일 많은 구는?\",seoul_moving.groupby('도착 시군구 코드')['도착 시군구 코드'].count().idxmax())\n",
    "print(\"유출이 제일 적은 구는?\",seoul_moving.groupby('출발 시군구 코드')['출발 시군구 코드'].count().idxmin())\n",
    "print(\"유입이 제일 적은 구는?\",seoul_moving.groupby('도착 시군구 코드')['도착 시군구 코드'].count().idxmin())"
   ]
  },
  {
   "cell_type": "code",
   "execution_count": 22,
   "id": "5b74bb6d",
   "metadata": {},
   "outputs": [
    {
     "data": {
      "text/plain": [
       "11230"
      ]
     },
     "execution_count": 22,
     "metadata": {},
     "output_type": "execute_result"
    }
   ],
   "source": [
    "# 아래에 코드를 작성하고 결과를 확인합니다.\n",
    "\n",
    "seoul_moving.groupby('도착 시군구 코드')['이동인구(합)'].count().idxmax()"
   ]
  },
  {
   "cell_type": "markdown",
   "id": "1ace49d0",
   "metadata": {},
   "source": [
    "#### [2.2.7] 낮시간만 분석 대상에 넣기 위해 심야버스 제외\n",
    "\n",
    "* 도착시간 0부터 4까지(0:00 ~ 4:59) 제거"
   ]
  },
  {
   "cell_type": "code",
   "execution_count": null,
   "id": "d54050e1",
   "metadata": {},
   "outputs": [],
   "source": [
    "# 아래에 코드를 작성하고 결과를 확인합니다.\n",
    "\n",
    "seoul_moving=seoul_moving.loc[~(seoul_moving['도착시간'].between(0,4))]\n",
    "seoul_moving['도착시간'].values\n",
    "\n",
    "seoul_moving.info()\n",
    "\n",
    "seoul_moving['이동인구(합)']=seoul_moving['이동인구(합)'].astype('float64')\n",
    "\n",
    "seoul_moving.info()"
   ]
  },
  {
   "cell_type": "markdown",
   "id": "bff8a6d6",
   "metadata": {},
   "source": [
    "#### [2.2.8] '도착 시군구 코드' 를 기준으로 각 구별로 '평균 이동 시간(분)' , '이동인구(합)' 의 평균과 합 도출\n",
    "\n",
    "* groupby 사용, as_index=False로 설정해주세요"
   ]
  },
  {
   "cell_type": "code",
   "execution_count": null,
   "id": "7783e416",
   "metadata": {},
   "outputs": [],
   "source": [
    "# '도착 시군구 코드' 를 기준으로 각 구별로 '평균 이동 시간(분)', '이동인구(합)'의 평균을 도출하여 seoul_moving_mean에 저장\n",
    "seoul_moving_mean=seoul_moving.groupby('도착 시군구 코드',as_index=False)[['평균 이동 시간(분)','이동인구(합)']].mean()\n",
    "seoul_moving_mean"
   ]
  },
  {
   "cell_type": "code",
   "execution_count": null,
   "id": "86bd27f5",
   "metadata": {},
   "outputs": [],
   "source": [
    "# '도착 시군구 코드' 를 기준으로 각 구별로 '평균 이동 시간(분)', '이동인구(합)'의 합을 도출하여 seoul_moving_sum에 저장\n",
    "\n",
    "# '도착 시군구 코드' 를 기준으로 각 구별로 '평균 이동 시간(분)', '이동인구(합)'의 평균을 도출하여 seoul_moving_mean에 저장\n",
    "seoul_moving_mean=seoul_moving.groupby('도착 시군구 코드',as_index=False)[['평균 이동 시간(분)','이동인구(합)']].mean()\n",
    "seoul_moving_mean"
   ]
  },
  {
   "cell_type": "code",
   "execution_count": null,
   "id": "baa867ac",
   "metadata": {},
   "outputs": [],
   "source": [
    "# 필요에 따라 column명을 데이터 의미에 맞게 적절히 변경하세요.\n",
    "# 필요에 따라 column명을 데이터 의미에 맞게 적절히 변경하세요.\n",
    "seoul_moving_mean=seoul_moving_mean.rename(columns={'평균 이동 시간(분)':'평균 이동 시간(분) 평균','이동인구(합)':'이동인구(합) 평균'})\n",
    "seoul_moving_sum=seoul_moving_sum.rename(columns={'평균 이동 시간(분)':'평균 이동 시간(분) 총합','이동인구(합)':'이동인구(합) 총합'})"
   ]
  },
  {
   "cell_type": "code",
   "execution_count": null,
   "id": "cb213b3a",
   "metadata": {},
   "outputs": [],
   "source": [
    "# seoul_moving_mean, seoul_moving_sum을 합쳐보세요.\n",
    "# seoul_moving_mean, seoul_moving_sum을 합쳐보세요.\n",
    "df_seoul_moving=pd.merge(seoul_moving_mean,seoul_moving_sum)\n",
    "df_seoul_moving"
   ]
  },
  {
   "cell_type": "code",
   "execution_count": null,
   "id": "b7389d07",
   "metadata": {},
   "outputs": [],
   "source": [
    "# 해당 데이터프레임을 'df_seoul_moving.csv' 파일로 저장하세요\n"
   ]
  },
  {
   "cell_type": "markdown",
   "id": "602b8bae",
   "metadata": {},
   "source": [
    "---"
   ]
  },
  {
   "cell_type": "markdown",
   "id": "1599e31e-5d5e-41fd-b219-9e129872ecdc",
   "metadata": {},
   "source": [
    "# 2.3.데이터 분석하기\n",
    "+ 데이터의 형태를 살펴보고 다양한 분석기법을 통해 모델링에 적합하도록 정제요소를 선별하세요.\n",
    "  * 데이터들의 패턴 탐색\n",
    "  * 변수들간의 관계 파악"
   ]
  },
  {
   "cell_type": "code",
   "execution_count": null,
   "id": "194ae01d",
   "metadata": {},
   "outputs": [],
   "source": [
    "import seaborn as sns\n",
    "import matplotlib.pyplot as plt\n",
    "\n",
    "# 시각화 한글폰트 설정\n",
    "# 맑은 고딕\n",
    "\n",
    "plt.rc('font', family='Malgun Gothic')\n",
    "sns.set(font=\"Malgun Gothic\",#\"NanumGothicCoding\", \n",
    "        rc={\"axes.unicode_minus\":False}, # 마이너스 부호 깨짐 현상 해결\n",
    "        style='darkgrid')\n",
    "\n",
    "# scipy\n",
    "import scipy.stats as spst"
   ]
  },
  {
   "cell_type": "markdown",
   "id": "material-complex",
   "metadata": {},
   "source": [
    "#### [2.3.1] 데이터 분포 알아보기\n",
    "* 다양한 변수를 기준으로 그래프를 그려보고 인사이트를 도출해보세요."
   ]
  },
  {
   "cell_type": "code",
   "execution_count": null,
   "id": "2a610ade",
   "metadata": {},
   "outputs": [],
   "source": [
    "# 아래에 코드를 작성하고 결과를 확인합니다.\n"
   ]
  },
  {
   "cell_type": "code",
   "execution_count": null,
   "id": "ce0af14b",
   "metadata": {},
   "outputs": [],
   "source": [
    "# 아래에 코드를 작성하고 결과를 확인합니다."
   ]
  },
  {
   "cell_type": "code",
   "execution_count": null,
   "id": "8cc4598f",
   "metadata": {},
   "outputs": [],
   "source": [
    "# 아래에 코드를 작성하고 결과를 확인합니다."
   ]
  },
  {
   "cell_type": "code",
   "execution_count": null,
   "id": "a360d86c",
   "metadata": {},
   "outputs": [],
   "source": [
    "# 위 차트를 통해 알게된 사실을 정리해봅시다.\n",
    "# 1. \n",
    "# 2.\n",
    "# 3."
   ]
  },
  {
   "cell_type": "markdown",
   "id": "ca567b34",
   "metadata": {},
   "source": [
    "---"
   ]
  }
 ],
 "metadata": {
  "kernelspec": {
   "display_name": "Python 3 (ipykernel)",
   "language": "python",
   "name": "python3"
  },
  "language_info": {
   "codemirror_mode": {
    "name": "ipython",
    "version": 3
   },
   "file_extension": ".py",
   "mimetype": "text/x-python",
   "name": "python",
   "nbconvert_exporter": "python",
   "pygments_lexer": "ipython3",
   "version": "3.11.3"
  },
  "vscode": {
   "interpreter": {
    "hash": "f08154012ddadd8e950e6e9e035c7a7b32c136e7647e9b7c77e02eb723a8bedb"
   }
  }
 },
 "nbformat": 4,
 "nbformat_minor": 5
}
